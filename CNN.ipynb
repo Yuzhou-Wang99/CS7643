{
  "nbformat": 4,
  "nbformat_minor": 0,
  "metadata": {
    "colab": {
      "provenance": [],
      "authorship_tag": "ABX9TyNVssH6Gyb7Y21zYp8iP6MS",
      "include_colab_link": true
    },
    "kernelspec": {
      "name": "python3",
      "display_name": "Python 3"
    },
    "language_info": {
      "name": "python"
    }
  },
  "cells": [
    {
      "cell_type": "markdown",
      "metadata": {
        "id": "view-in-github",
        "colab_type": "text"
      },
      "source": [
        "<a href=\"https://colab.research.google.com/github/Yuzhou-Wang99/CS7643/blob/main/CNN.ipynb\" target=\"_parent\"><img src=\"https://colab.research.google.com/assets/colab-badge.svg\" alt=\"Open In Colab\"/></a>"
      ]
    },
    {
      "cell_type": "code",
      "execution_count": 2,
      "metadata": {
        "id": "5wcLPu7pyHS6"
      },
      "outputs": [],
      "source": [
        "import torch\n",
        "import torch.nn as nn\n",
        "import torch.nn.functional as F\n",
        "from torch.utils.data import DataLoader\n",
        "from torchvision import datasets, transforms\n",
        "from torchvision.utils import make_grid\n",
        "\n",
        "import numpy as np\n",
        "import pandas as pd\n",
        "import matplotlib.pyplot as plt\n",
        "from sklearn.metrics import confusion_matrix\n",
        "\n",
        "%matplotlib inline\n"
      ]
    },
    {
      "cell_type": "code",
      "source": [
        "# convert MNIST imges into a tensor of 4-Dimention\n",
        "\n",
        "transform = transforms.ToTensor()"
      ],
      "metadata": {
        "id": "ikax4q3JzQdo"
      },
      "execution_count": 3,
      "outputs": []
    },
    {
      "cell_type": "code",
      "source": [
        "# Train Data\n",
        "train_data = datasets.MNIST(root = \"cnn_data\", train = True, download= True, transform = transform)"
      ],
      "metadata": {
        "colab": {
          "base_uri": "https://localhost:8080/"
        },
        "id": "roVKAJRWziCo",
        "outputId": "eaf64119-ff85-40de-f113-d2289c2fa8fc"
      },
      "execution_count": 4,
      "outputs": [
        {
          "output_type": "stream",
          "name": "stderr",
          "text": [
            "100%|██████████| 9.91M/9.91M [00:00<00:00, 35.8MB/s]\n",
            "100%|██████████| 28.9k/28.9k [00:00<00:00, 1.09MB/s]\n",
            "100%|██████████| 1.65M/1.65M [00:00<00:00, 10.0MB/s]\n",
            "100%|██████████| 4.54k/4.54k [00:00<00:00, 5.39MB/s]\n"
          ]
        }
      ]
    },
    {
      "cell_type": "code",
      "source": [
        "test_data = datasets.MNIST(root = \"cnn_data\", train = False, download= True, transform = transform)"
      ],
      "metadata": {
        "id": "_s0kAvaBz1a6"
      },
      "execution_count": 5,
      "outputs": []
    },
    {
      "cell_type": "code",
      "source": [
        "train_data"
      ],
      "metadata": {
        "colab": {
          "base_uri": "https://localhost:8080/"
        },
        "id": "Bg2xfxnV0BGu",
        "outputId": "89ea21a2-a39c-47f4-eda5-eeb37b405201"
      },
      "execution_count": 6,
      "outputs": [
        {
          "output_type": "execute_result",
          "data": {
            "text/plain": [
              "Dataset MNIST\n",
              "    Number of datapoints: 60000\n",
              "    Root location: cnn_data\n",
              "    Split: Train\n",
              "    StandardTransform\n",
              "Transform: ToTensor()"
            ]
          },
          "metadata": {},
          "execution_count": 6
        }
      ]
    },
    {
      "cell_type": "code",
      "source": [
        "test_data"
      ],
      "metadata": {
        "colab": {
          "base_uri": "https://localhost:8080/"
        },
        "id": "OazGc-4D0rDa",
        "outputId": "7ea87c54-67bb-4bca-98d2-7392d1c518c8"
      },
      "execution_count": 13,
      "outputs": [
        {
          "output_type": "execute_result",
          "data": {
            "text/plain": [
              "Dataset MNIST\n",
              "    Number of datapoints: 10000\n",
              "    Root location: cnn_data\n",
              "    Split: Test\n",
              "    StandardTransform\n",
              "Transform: ToTensor()"
            ]
          },
          "metadata": {},
          "execution_count": 13
        }
      ]
    },
    {
      "cell_type": "code",
      "source": [
        "train_loader = DataLoader(train_data, batch_size = 10, shuffle = True)\n",
        "test_loader = DataLoader(test_data, batch_size = 10, shuffle = False)"
      ],
      "metadata": {
        "id": "ynOf1pHr1Ybb"
      },
      "execution_count": 14,
      "outputs": []
    },
    {
      "cell_type": "code",
      "source": [
        "#Model class\n",
        "\n",
        "class ConvNet(nn.Module):\n",
        "  def __init__(self):\n",
        "    super().__init__()\n",
        "    self.conv1 = nn.Conv2d(1,6,3,1)\n",
        "    self.conv2 = nn.Conv2d(6,16,3,1)\n",
        "\n",
        "    self.fc1 = nn.Linear(5*5*16,120)\n",
        "    self.fc2 = nn.Linear(120, 60)\n",
        "    self.fc3 = nn.Linear(60,10)\n",
        "\n",
        "  def forward(self,x):\n",
        "    x = F.relu(self.conv1(x))\n",
        "    x = F.max_pool2d(x,2,2) #2*2 kernel and stride 2\n",
        "\n",
        "    x = F.relu(self.conv2(x))\n",
        "    x = F.max_pool2d(x,2,2) #2*2 kernel and stride 2\n",
        "\n",
        "    # Re-view to flatten it out\n",
        "    x = x.view(-1,5*5*16) #-1 so that we can vary the batch size\n",
        "\n",
        "    #Fully connected layers\n",
        "    x = F.relu(self.fc1(x))\n",
        "    x = F.relu(self.fc2(x))\n",
        "    x = self.fc3(x)\n",
        "\n",
        "    return F.log_softmax(x,dim = 1)\n",
        "\n"
      ],
      "metadata": {
        "id": "aOPRvpYc1o3D"
      },
      "execution_count": 22,
      "outputs": []
    },
    {
      "cell_type": "code",
      "source": [
        "#Create an Instance of our model\n",
        "\n",
        "torch.manual_seed(101)\n",
        "model = ConvNet()\n",
        "\n",
        "# Loss Function\n",
        "criterion = nn.CrossEntropyLoss()\n",
        "\n",
        "# Optimizer\n",
        "optimizer = torch.optim.Adam(model.parameters(), lr = 0.001)"
      ],
      "metadata": {
        "id": "Ctv1RgZn-jVT"
      },
      "execution_count": 24,
      "outputs": []
    },
    {
      "cell_type": "code",
      "source": [
        "import time\n",
        "start_time = time.time()\n",
        "\n",
        "epoch = 5\n",
        "\n",
        "train_losses = []\n",
        "test_losses = []\n",
        "train_correct = []\n",
        "test_correct = []\n",
        "\n",
        "for i in range(epoch):\n",
        "  trn_corr = 0\n",
        "  tst_corr = 0\n",
        "\n",
        "  for b, (X_train, y_train) in enumerate(train_loader):\n",
        "    b+=1 # start our batch at 1\n",
        "    y_pred = model(X_train)\n",
        "    loss = criterion(y_pred,y_train)\n",
        "\n",
        "    predicted = torch.argmax(y_pred, dim=1) #torch.max(input, dim) returns a tuple of: max values and corresponding indices:\n",
        "    batch_corr = (predicted == y_train).sum()\n",
        "    trn_corr += batch_corr\n",
        "\n",
        "    #update our parameters\n",
        "    optimizer.zero_grad()\n",
        "    loss.backward()\n",
        "    optimizer.step()\n",
        "\n",
        "    #Print out some results\n",
        "    if b%600 ==0 :\n",
        "      print(f\"Epoch: {i} \\t Batch: {b} \\t Loss: {loss.item()}\")\n",
        "\n",
        "  train_losses.append(loss)\n",
        "  train_correct.append(trn_corr)\n",
        "\n",
        "  #Test data results\n",
        "  with torch.no_grad():\n",
        "    for b,(X_test,y_test) in enumerate(test_loader):\n",
        "      y_val = model(X_test)\n",
        "      predicted = predicted = torch.argmax(y_val, dim=1)\n",
        "      tst_corr += (predicted == y_test).sum()\n",
        "\n",
        "    loss = criterion(y_val,y_test)\n",
        "    test_losses.append(loss)\n",
        "    test_correct.append(tst_corr)\n",
        "\n",
        "\n",
        "\n",
        "finish_time = time.time()\n",
        "print(f\"Training took: {(finish_time - start_time)/60} minutes !\")"
      ],
      "metadata": {
        "colab": {
          "base_uri": "https://localhost:8080/"
        },
        "id": "5J4Ole_HC0fR",
        "outputId": "5a2ec2ad-3efe-40ee-fee2-cd90a6e67798"
      },
      "execution_count": 27,
      "outputs": [
        {
          "output_type": "stream",
          "name": "stdout",
          "text": [
            "Epoch: 0 \t Batch: 600 \t Loss: 0.0044473567977547646\n",
            "Epoch: 0 \t Batch: 1200 \t Loss: 0.11500821262598038\n",
            "Epoch: 0 \t Batch: 1800 \t Loss: 0.06699031591415405\n",
            "Epoch: 0 \t Batch: 2400 \t Loss: 0.44628944993019104\n",
            "Epoch: 0 \t Batch: 3000 \t Loss: 0.0010046529350802302\n",
            "Epoch: 0 \t Batch: 3600 \t Loss: 0.07897458970546722\n",
            "Epoch: 0 \t Batch: 4200 \t Loss: 0.17728562653064728\n",
            "Epoch: 0 \t Batch: 4800 \t Loss: 0.012238362804055214\n",
            "Epoch: 0 \t Batch: 5400 \t Loss: 0.0012777623487636447\n",
            "Epoch: 0 \t Batch: 6000 \t Loss: 0.5042980909347534\n",
            "Epoch: 1 \t Batch: 600 \t Loss: 0.059484176337718964\n",
            "Epoch: 1 \t Batch: 1200 \t Loss: 0.009178778156638145\n",
            "Epoch: 1 \t Batch: 1800 \t Loss: 0.0018728660652413964\n",
            "Epoch: 1 \t Batch: 2400 \t Loss: 0.03472519293427467\n",
            "Epoch: 1 \t Batch: 3000 \t Loss: 0.0009776619262993336\n",
            "Epoch: 1 \t Batch: 3600 \t Loss: 0.11465604603290558\n",
            "Epoch: 1 \t Batch: 4200 \t Loss: 0.0035974658094346523\n",
            "Epoch: 1 \t Batch: 4800 \t Loss: 0.0017417862545698881\n",
            "Epoch: 1 \t Batch: 5400 \t Loss: 0.243601992726326\n",
            "Epoch: 1 \t Batch: 6000 \t Loss: 0.005134118255227804\n",
            "Epoch: 2 \t Batch: 600 \t Loss: 0.0021277498453855515\n",
            "Epoch: 2 \t Batch: 1200 \t Loss: 0.02603435143828392\n",
            "Epoch: 2 \t Batch: 1800 \t Loss: 0.005855587311089039\n",
            "Epoch: 2 \t Batch: 2400 \t Loss: 0.01047629676759243\n",
            "Epoch: 2 \t Batch: 3000 \t Loss: 0.0014801912475377321\n",
            "Epoch: 2 \t Batch: 3600 \t Loss: 0.0003755232610274106\n",
            "Epoch: 2 \t Batch: 4200 \t Loss: 0.0007891415734775364\n",
            "Epoch: 2 \t Batch: 4800 \t Loss: 0.0859065055847168\n",
            "Epoch: 2 \t Batch: 5400 \t Loss: 0.010478915646672249\n",
            "Epoch: 2 \t Batch: 6000 \t Loss: 0.00027910113567486405\n",
            "Epoch: 3 \t Batch: 600 \t Loss: 0.026997601613402367\n",
            "Epoch: 3 \t Batch: 1200 \t Loss: 0.027431201189756393\n",
            "Epoch: 3 \t Batch: 1800 \t Loss: 0.007205617614090443\n",
            "Epoch: 3 \t Batch: 2400 \t Loss: 0.0013447662349790335\n",
            "Epoch: 3 \t Batch: 3000 \t Loss: 0.0026567173190414906\n",
            "Epoch: 3 \t Batch: 3600 \t Loss: 0.0002115888346452266\n",
            "Epoch: 3 \t Batch: 4200 \t Loss: 0.000608986709266901\n",
            "Epoch: 3 \t Batch: 4800 \t Loss: 0.036584533751010895\n",
            "Epoch: 3 \t Batch: 5400 \t Loss: 0.0022618675138801336\n",
            "Epoch: 3 \t Batch: 6000 \t Loss: 0.005365690682083368\n",
            "Epoch: 4 \t Batch: 600 \t Loss: 0.0015964306658133864\n",
            "Epoch: 4 \t Batch: 1200 \t Loss: 0.003072043415158987\n",
            "Epoch: 4 \t Batch: 1800 \t Loss: 0.0003176205500494689\n",
            "Epoch: 4 \t Batch: 2400 \t Loss: 6.344525172607973e-05\n",
            "Epoch: 4 \t Batch: 3000 \t Loss: 0.000979336560703814\n",
            "Epoch: 4 \t Batch: 3600 \t Loss: 0.0157986618578434\n",
            "Epoch: 4 \t Batch: 4200 \t Loss: 0.1788024753332138\n",
            "Epoch: 4 \t Batch: 4800 \t Loss: 0.0010898354230448604\n",
            "Epoch: 4 \t Batch: 5400 \t Loss: 1.7928434317582287e-05\n",
            "Epoch: 4 \t Batch: 6000 \t Loss: 0.0019552730955183506\n",
            "Training took: 3.73286323149999 minutes !\n"
          ]
        }
      ]
    },
    {
      "cell_type": "code",
      "source": [
        "# Graph the loss of each epoch\n",
        "\n",
        "train_losses = [t.detach().numpy() for t in train_losses]\n",
        "train_correct = [t.detach().numpy() for t in train_correct]\n",
        "plt.plot(train_losses, label = \"Training Loss\")\n",
        "plt.plot(test_losses, label = \"Testing Loss\")\n",
        "plt.title(\"Loss at Epochs\")\n",
        "plt.legend()\n",
        "plt.show()"
      ],
      "metadata": {
        "colab": {
          "base_uri": "https://localhost:8080/",
          "height": 452
        },
        "id": "UOKpelrUD4PK",
        "outputId": "fab73106-a735-4bf5-c396-ebafd38e8616"
      },
      "execution_count": 29,
      "outputs": [
        {
          "output_type": "display_data",
          "data": {
            "text/plain": [
              "<Figure size 640x480 with 1 Axes>"
            ],
            "image/png": "[encoded data removed]"
          },
          "metadata": {}
        }
      ]
    },
    {
      "cell_type": "code",
      "source": [
        "# graph the accuracy at the end of each epoch\n",
        "\n",
        "plt.plot([t/600 for t in train_correct], label = \"Training Accuracy\")\n",
        "plt.plot([t/600 for t in test_correct], label = \"Testing Accuracy\")\n",
        "plt.title(\"Accuracy at Epochs\")\n",
        "plt.legend()\n",
        "plt.show()"
      ],
      "metadata": {
        "colab": {
          "base_uri": "https://localhost:8080/",
          "height": 452
        },
        "id": "E0WmmO3APoqE",
        "outputId": "2f09d2c7-f468-40ec-cae4-faac13598bf5"
      },
      "execution_count": 30,
      "outputs": [
        {
          "output_type": "display_data",
          "data": {
            "text/plain": [
              "<Figure size 640x480 with 1 Axes>"
            ],
            "image/png": "[encoded data removed]"
          },
          "metadata": {}
        }
      ]
    },
    {
      "cell_type": "code",
      "source": [
        "test_load_everything = DataLoader(test_data, batch_size=10000, shuffle=False)\n",
        "\n",
        "with torch.no_grad():\n",
        "  correct =0\n",
        "  for X_test,y_test in test_load_everything:\n",
        "    y_pred = model(X_test)\n",
        "    predicted = torch.argmax(y_pred,1)\n",
        "    correct += (predicted == y_test).sum()\n",
        "correct"
      ],
      "metadata": {
        "colab": {
          "base_uri": "https://localhost:8080/"
        },
        "id": "FnurdByJQQF4",
        "outputId": "721bfa73-20aa-43bd-fb3a-88fa8f2ca784"
      },
      "execution_count": 33,
      "outputs": [
        {
          "output_type": "execute_result",
          "data": {
            "text/plain": [
              "tensor(9872)"
            ]
          },
          "metadata": {},
          "execution_count": 33
        }
      ]
    },
    {
      "cell_type": "code",
      "source": [
        "# Get an image\n",
        "image_index = int(input(\"Choose the image number you want to evaluate:\"))\n",
        "test_image = test_data[image_index][0].reshape(28,28) #before reshape it has shape(1,28,28)\n",
        "plt.imshow(test_image, cmap = \"gray\")"
      ],
      "metadata": {
        "colab": {
          "base_uri": "https://localhost:8080/",
          "height": 466
        },
        "id": "snHKPWylRTlm",
        "outputId": "796ddb25-789f-4040-e78b-4f6a16ee711d"
      },
      "execution_count": 51,
      "outputs": [
        {
          "name": "stdout",
          "output_type": "stream",
          "text": [
            "Choose the image number you want to evaluate:34\n"
          ]
        },
        {
          "output_type": "execute_result",
          "data": {
            "text/plain": [
              "<matplotlib.image.AxesImage at 0x7f4b32708fd0>"
            ]
          },
          "metadata": {},
          "execution_count": 51
        },
        {
          "output_type": "display_data",
          "data": {
            "text/plain": [
              "<Figure size 640x480 with 1 Axes>"
            ],
            "image/png": "[encoded data removed]"
          },
          "metadata": {}
        }
      ]
    },
    {
      "cell_type": "code",
      "source": [
        "model.eval()\n",
        "with torch.no_grad():\n",
        "  pred = model(test_data[image_index][0].reshape(1,1,28,28))\n",
        "\n",
        "print(torch.argmax(pred,1))"
      ],
      "metadata": {
        "colab": {
          "base_uri": "https://localhost:8080/"
        },
        "id": "TQ3nxrwfScMK",
        "outputId": "5a2942a6-d712-4d64-f1b6-f7e1b0d85812"
      },
      "execution_count": 52,
      "outputs": [
        {
          "output_type": "stream",
          "name": "stdout",
          "text": [
            "tensor([7])\n"
          ]
        }
      ]
    },
    {
      "cell_type": "code",
      "source": [],
      "metadata": {
        "id": "sWV7o_QhTPs-"
      },
      "execution_count": 50,
      "outputs": []
    }
  ]
}