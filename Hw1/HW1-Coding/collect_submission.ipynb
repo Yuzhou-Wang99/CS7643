{
 "cells": [
  {
   "cell_type": "code",
   "execution_count": null,
   "id": "ff348a42",
   "metadata": {
    "id": "ff348a42"
   },
   "outputs": [],
   "source": [
    "from google.colab import drive\n",
    "import os\n",
    "\n",
    "# 1. Mounting Google Drive: This allows Colab to access files in your Google Drive\n",
    "drive.mount('/content/drive')"
   ]
  },
  {
   "cell_type": "code",
   "execution_count": null,
   "id": "34515212",
   "metadata": {},
   "outputs": [],
   "source": [
    "# 2. Tell Colab where to find your assignment files and where to save your work\n",
    "\n",
    "# TODO: Enter the relative path in your Google Drive of the assignment.\n",
    "FOLDERNAME = None # e.g. 'cs7643/ps0/'\n",
    "\n",
    "assert FOLDERNAME is not None, \"[!] Enter the foldername.\"\n",
    "working_directory = os.path.join(\"/content/drive/MyDrive/\", FOLDERNAME)\n",
    "assert os.path.exists(working_directory), \"Make sure your FOLDERNAME is correct\""
   ]
  },
  {
   "cell_type": "code",
   "execution_count": null,
   "id": "5f96d5f1",
   "metadata": {},
   "outputs": [],
   "source": [
    "%cd $working_directory"
   ]
  },
  {
   "cell_type": "markdown",
   "id": "88d38cd1",
   "metadata": {
    "id": "88d38cd1"
   },
   "source": [
    "# Collect Submission - Zip + Generate PDF\n",
    "\n",
    "Run this notebook once you have completed all the other notebooks.\n",
    "\n",
    "It will:\n",
    "\n",
    "* Generate a zip file of your code (`.py` and `.ipynb`) called `hw1_code_submission.zip`.\n",
    "* Convert all notebooks into a single PDF file called `hw1_notebook_submission.pdf`.\n",
    "\n",
    "If your submission for this step was successful, you should see the following display message:\n",
    "\n",
    "`### Done! Please submit hw1_code_submission.zip and hw1_notebook_submission.pdf to Gradescope. ###`\n",
    "\n",
    "Make sure to download the zip and pdf file locally to your computer, then submit to Gradescope. Congrats on succesfully completing the assignment!"
   ]
  },
  {
   "cell_type": "code",
   "execution_count": null,
   "id": "5ab73673",
   "metadata": {},
   "outputs": [],
   "source": [
    "# Specify the notebook files you want to convert and merge\n",
    "notebook_files = ['main.ipynb']\n",
    "code_files = ['configs/**', 'models/**', 'optimizer/**', 'data/get_data.sh', 'utils.py']\n",
    "patterns_to_ignore=[\"**/__pycache__\", \"**/__pycache__/**\"]\n",
    "\n",
    "submission_pdf = 'hw1_notebook_submission.pdf'\n",
    "submission_zip = 'hw1_code_submission.zip'"
   ]
  },
  {
   "cell_type": "code",
   "execution_count": null,
   "id": "e9aa9ce5",
   "metadata": {
    "id": "e9aa9ce5"
   },
   "outputs": [],
   "source": [
    "# Install requirements\n",
    "!sudo apt-get install texlive texlive-latex-extra pandoc texlive-xetex texlive-fonts-recommended texlive-plain-generic\n",
    "!pip install PyPDF2"
   ]
  },
  {
   "cell_type": "code",
   "execution_count": null,
   "id": "l6UfDT0pFHFS",
   "metadata": {
    "id": "l6UfDT0pFHFS"
   },
   "outputs": [],
   "source": [
    "import os\n",
    "import zipfile\n",
    "import subprocess\n",
    "import glob\n",
    "from PyPDF2 import PdfMerger\n",
    "\n",
    "def convert_notebooks_to_pdf(notebook_files):\n",
    "    pdf_files = []\n",
    "    for notebook in notebook_files:\n",
    "        pdf_file = notebook.replace('.ipynb', '.pdf')\n",
    "        command = f\"jupyter nbconvert --to pdf {notebook}\"\n",
    "        try:\n",
    "            subprocess.run(command, shell=True, check=True)\n",
    "            pdf_files.append(pdf_file)\n",
    "            print(f\"Successfully converted {notebook} to PDF\")\n",
    "        except subprocess.CalledProcessError as e:\n",
    "            print(e)\n",
    "            print(f\"Failed to convert {notebook} to PDF\")\n",
    "    return pdf_files\n",
    "\n",
    "def merge_pdfs(pdf_files, output_file):\n",
    "    merger = PdfMerger()\n",
    "    for pdf in pdf_files:\n",
    "        merger.append(pdf)\n",
    "    merger.write(output_file)\n",
    "    merger.close()\n",
    "    print(f\"Successfully merged PDFs into {output_file}\")\n",
    "\n",
    "def cleanup(pdf_files):\n",
    "    for pdf in pdf_files:\n",
    "        os.remove(pdf)\n",
    "        print(f\"Removed temporary file: {pdf}\")\n",
    "\n",
    "def zip_folder(folder_path, zipf: zipfile.ZipFile):\n",
    "    for root, dirs, files in os.walk(folder_path):\n",
    "        for file in files:\n",
    "            full_path = os.path.join(root, file)\n",
    "            arcname = os.path.relpath(full_path, os.path.dirname(folder_path))\n",
    "            zipf.write(full_path, arcname)\n",
    "\n",
    "def create_zip_archive(patterns_to_zip: list[str], zip_filename: str, patterns_to_ignore=None):\n",
    "    with zipfile.ZipFile(zip_filename, 'w') as zip_file:\n",
    "        for pattern in patterns_to_zip:\n",
    "            filepaths = glob.glob(pattern, recursive=True)\n",
    "            if not filepaths:\n",
    "                print(f\"Warning: No files found matching pattern: {pattern}\")\n",
    "                continue\n",
    "            for filepath in filepaths:\n",
    "                if patterns_to_ignore:\n",
    "                    if any(glob.fnmatch.fnmatch(filepath, ignore_pattern) for ignore_pattern in patterns_to_ignore):\n",
    "                        print(f\"Ignored {filepath}\")\n",
    "                        continue\n",
    "                zip_file.write(filepath, os.path.relpath(filepath))\n",
    "                print(f\"Added {filepath} to the zip archive\")\n",
    "\n",
    "assert os.path.normpath(os.getcwd()) == os.path.normpath(working_directory), f\"Make sure to cd into {working_directory}, you are currently in {os.getcwd()}\"\n",
    "# Convert notebooks to PDFs\n",
    "pdf_files = convert_notebooks_to_pdf(notebook_files)\n",
    "\n",
    "# Merge PDFs\n",
    "merge_pdfs(pdf_files, submission_pdf)\n",
    "\n",
    "# Clean up individual PDF files\n",
    "cleanup(pdf_files)\n",
    "\n",
    "# Create zip archive\n",
    "zip_filename = submission_zip\n",
    "create_zip_archive(code_files, zip_filename, patterns_to_ignore=patterns_to_ignore)\n",
    "\n",
    "print(f\"###\\nDone! Please submit {zip_filename} and {submission_pdf} to GradeScope\")"
   ]
  }
 ],
 "metadata": {
  "colab": {
   "provenance": []
  },
  "gpuClass": "standard",
  "kernelspec": {
   "display_name": "Python 3 (ipykernel)",
   "language": "python",
   "name": "python3"
  },
  "language_info": {
   "codemirror_mode": {
    "name": "ipython",
    "version": 3
   },
   "file_extension": ".py",
   "mimetype": "text/x-python",
   "name": "python",
   "nbconvert_exporter": "python",
   "pygments_lexer": "ipython3",
   "version": "3.9.12"
  }
 },
 "nbformat": 4,
 "nbformat_minor": 5
}
