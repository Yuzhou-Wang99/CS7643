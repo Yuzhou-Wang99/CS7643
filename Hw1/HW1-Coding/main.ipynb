{
	"cells": [
		{
			"cell_type": "code",
			"execution_count": null,
			"id": "hBD1zdSe0OuY",
			"metadata": {
				"id": "hBD1zdSe0OuY",
				"scrolled": true
			},
			"outputs": [],
			"source": [
				"#Cell 1\n",
				"from google.colab import drive\n",
				"drive.mount('/content/drive')"
			]
		},
		{
			"cell_type": "code",
			"execution_count": null,
			"id": "HLp78q5P19ed",
			"metadata": {
				"id": "HLp78q5P19ed"
			},
			"outputs": [],
			"source": [
				"# Cell 2\n",
				"import os\n",
				"import zipfile\n",
				"\n",
				"# Define working directory\n",
				"FOLDERNAME = None # e.g. 'cs7643/hw1/Code'\n",
				"assert FOLDERNAME, \"[!] Enter the foldername.\"\n",
				"\n",
				"base_path = \"/content/drive/My Drive\"\n",
				"working_directory = os.path.join(base_path, FOLDERNAME)\n",
				"data_dir = os.path.join(working_directory, \"data\")\n",
				"\n",
				"assert os.path.exists(data_dir), f\"[!] Directory not found: {data_dir}\"\n",
				"os.chdir(data_dir)\n",
				"\n",
				"# Define zip file names\n",
				"zip_files = [\"mnist_train.csv.zip\", \"mnist_test.csv.zip\"]\n",
				"\n",
				"# Unzip each file if not already extracted\n",
				"for zf in zip_files:\n",
				"    csv_name = zf.replace(\".zip\", \"\")\n",
				"    if not os.path.exists(csv_name):\n",
				"        with zipfile.ZipFile(zf, 'r') as zip_ref:\n",
				"            zip_ref.extractall()\n",
				"            print(f\"Extracted: {zf}\")\n",
				"    else:\n",
				"        print(f\"Already exists: {csv_name}\")\n",
				"\n",
				"# Move back up\n",
				"os.chdir(working_directory)"
			]
		},
		{
			"cell_type": "code",
			"execution_count": null,
			"id": "YCVwKF1M6vAb",
			"metadata": {
				"id": "YCVwKF1M6vAb"
			},
			"outputs": [],
			"source": [
				"# Cell 3\n",
				"# Run all local tests in this block\n",
				"# If you get an error saying test not found, add an __init__.py file in the\n",
				"# tests directory\n",
				"!python -m unittest tests.test_network"
			]
		},
		{
			"cell_type": "code",
			"execution_count": null,
			"id": "e6846de3",
			"metadata": {
				"id": "e6846de3"
			},
			"outputs": [],
			"source": [
				"#Cell 4\n",
				"import yaml\n",
				"import copy\n",
				"\n",
				"from models import TwoLayerNet, SoftmaxRegression\n",
				"from optimizer import SGD\n",
				"from utils import load_mnist_trainval, load_mnist_test, generate_batched_data, train, evaluate, plot_curves"
			]
		},
		{
			"cell_type": "code",
			"execution_count": null,
			"id": "32141d05",
			"metadata": {
				"id": "32141d05"
			},
			"outputs": [],
			"source": [
				"# Cell 5\n",
				"%matplotlib inline\n",
				"def train_model(yaml_config_file):\n",
				"  args = {}\n",
				"  with open(yaml_config_file) as f:\n",
				"      config = yaml.full_load(f)\n",
				"\n",
				"  for key in config:\n",
				"      for k, v in config[key].items():\n",
				"          args[k] = v\n",
				"  \n",
				"  # Prepare MNIST data\n",
				"  train_data, train_label, val_data, val_label = load_mnist_trainval()\n",
				"  test_data, test_label = load_mnist_test()\n",
				"\n",
				"  # Prepare model and optimizer\n",
				"  if args[\"type\"] == 'SoftmaxRegression':\n",
				"      model = SoftmaxRegression()\n",
				"  elif args[\"type\"] == 'TwoLayerNet':\n",
				"      model = TwoLayerNet(hidden_size=args[\"hidden_size\"])\n",
				"  optimizer = SGD(learning_rate=args[\"learning_rate\"], reg=args[\"reg\"])\n",
				"  \n",
				"  # Training Code\n",
				"  train_loss_history = []\n",
				"  train_acc_history = []\n",
				"  valid_loss_history = []\n",
				"  valid_acc_history = []\n",
				"  best_acc = 0.0\n",
				"  best_model = None\n",
				"  for epoch in range(args[\"epochs\"]):\n",
				"      batched_train_data, batched_train_label = generate_batched_data(train_data, train_label, batch_size=args[\"batch_size\"], shuffle=True)\n",
				"      epoch_loss, epoch_acc = train(epoch, batched_train_data, batched_train_label, model, optimizer, args[\"debug\"])\n",
				"\n",
				"      train_loss_history.append(epoch_loss)\n",
				"      train_acc_history.append(epoch_acc)\n",
				"      # evaluate on test data\n",
				"      batched_test_data, batched_test_label = generate_batched_data(val_data, val_label, batch_size=args[\"batch_size\"])\n",
				"      valid_loss, valid_acc = evaluate(batched_test_data, batched_test_label, model, args[\"debug\"])\n",
				"      if args[\"debug\"]:\n",
				"          print(\"* Validation Accuracy: {accuracy:.4f}\".format(accuracy=valid_acc))\n",
				"\n",
				"      valid_loss_history.append(valid_loss)\n",
				"      valid_acc_history.append(valid_acc)\n",
				"\n",
				"      if valid_acc > best_acc:\n",
				"          best_acc = valid_acc\n",
				"          best_model = copy.deepcopy(model)\n",
				"  \n",
				"  #Testing Code\n",
				"  batched_test_data, batched_test_label = generate_batched_data(test_data, test_label, batch_size=args[\"batch_size\"])\n",
				"  _, test_acc = evaluate(batched_test_data, batched_test_label, best_model) # test the best model\n",
				"  if args[\"debug\"]:\n",
				"      print(\"Final Accuracy on Test Data: {accuracy:.4f}\".format(accuracy=test_acc))\n",
				"  \n",
				"  return train_loss_history, train_acc_history, valid_loss_history, valid_acc_history"
			]
		},
		{
			"cell_type": "code",
			"execution_count": null,
			"id": "a9006eb6",
			"metadata": {
				"id": "a9006eb6"
			},
			"outputs": [],
			"source": [
				"# Cell 6\n",
				"# train softmax model\n",
				"train_loss_history, train_acc_history, valid_loss_history, valid_acc_history = train_model(\"configs/config_softmax.yaml\")"
			]
		},
		{
			"cell_type": "code",
			"execution_count": null,
			"id": "0J0-Rwry22tD",
			"metadata": {
				"id": "0J0-Rwry22tD"
			},
			"outputs": [],
			"source": [
				"# Cell 7\n",
				"# plot results for softmax model\n",
				"plot_curves(train_loss_history, train_acc_history, valid_loss_history, valid_acc_history)"
			]
		},
		{
			"cell_type": "code",
			"execution_count": null,
			"id": "76004b0b",
			"metadata": {
				"id": "76004b0b"
			},
			"outputs": [],
			"source": [
				"# Cell 8\n",
				"# train two layer neural network\n",
				"train_loss_history, train_acc_history, valid_loss_history, valid_acc_history = train_model(\"configs/config_twolayer.yaml\")"
			]
		},
		{
			"cell_type": "code",
			"execution_count": null,
			"id": "aSiPwOId3CQd",
			"metadata": {
				"id": "aSiPwOId3CQd"
			},
			"outputs": [],
			"source": [
				"# Cell 9\n",
				"# plot two layer neural network\n",
				"plot_curves(train_loss_history, train_acc_history, valid_loss_history, valid_acc_history)"
			]
		},
		{
			"cell_type": "markdown",
			"id": "UJgUiTH5i01C",
			"metadata": {
				"id": "UJgUiTH5i01C"
			},
			"source": [
				"# **Assignment 1 Writeup**\n",
				"\n",
				"- Name: \n",
				"- GT Email:\n",
				"- GT ID:\n",
				"\n"
			]
		},
		{
			"cell_type": "markdown",
			"id": "rRF-sW5smL2Q",
			"metadata": {
				"id": "rRF-sW5smL2Q"
			},
			"source": [
				"## Two Layer Neural Network\n",
				"\n",
				"# Learning Rates\n",
				"\n",
				"- Tune the Two Layer Neural Network with various learning rates (while keeping all other hyperparameters constant) by changing the config file.\n",
				"  - lr = 1\n",
				"  - lr = 1e-1\n",
				"  - lr = 1e-2\n",
				"  - lr = 5e-2\n"
			]
		},
		{
			"cell_type": "code",
			"execution_count": null,
			"id": "YMOAfZ-Og31r",
			"metadata": {
				"id": "YMOAfZ-Og31r"
			},
			"outputs": [],
			"source": [
				"# Cell 10\n",
				"# Change lr to 1 in the config file and run this code block\n",
				"train_loss_history, train_acc_history, valid_loss_history, valid_acc_history = train_model(\"configs/config_exp.yaml\")"
			]
		},
		{
			"cell_type": "code",
			"execution_count": null,
			"id": "nw9iI_Hk4q-q",
			"metadata": {
				"id": "nw9iI_Hk4q-q"
			},
			"outputs": [],
			"source": [
				"# Cell 11\n",
				"plot_curves(train_loss_history, train_acc_history, valid_loss_history, valid_acc_history)"
			]
		},
		{
			"cell_type": "code",
			"execution_count": null,
			"id": "fw5g9OOnnJOl",
			"metadata": {
				"id": "fw5g9OOnnJOl"
			},
			"outputs": [],
			"source": [
				"# Cell 12\n",
				"# Change lr to 1e-1 in the config file and run this code block\n",
				"train_loss_history, train_acc_history, valid_loss_history, valid_acc_history = train_model(\"configs/config_exp.yaml\")"
			]
		},
		{
			"cell_type": "code",
			"execution_count": null,
			"id": "dvgrcwJN4sEs",
			"metadata": {
				"id": "dvgrcwJN4sEs"
			},
			"outputs": [],
			"source": [
				"# Cell 13\n",
				"plot_curves(train_loss_history, train_acc_history, valid_loss_history, valid_acc_history)"
			]
		},
		{
			"cell_type": "code",
			"execution_count": null,
			"id": "gIWa10SvnbC8",
			"metadata": {
				"id": "gIWa10SvnbC8"
			},
			"outputs": [],
			"source": [
				"# Cell 14\n",
				"# Change lr to 1e-2 in the config file and run this code block\n",
				"train_loss_history, train_acc_history, valid_loss_history, valid_acc_history = train_model(\"configs/config_exp.yaml\")"
			]
		},
		{
			"cell_type": "code",
			"execution_count": null,
			"id": "apT_NgBo4s6f",
			"metadata": {
				"id": "apT_NgBo4s6f"
			},
			"outputs": [],
			"source": [
				"# Cell 15\n",
				"plot_curves(train_loss_history, train_acc_history, valid_loss_history, valid_acc_history)"
			]
		},
		{
			"cell_type": "code",
			"execution_count": null,
			"id": "5401h5E-nnY0",
			"metadata": {
				"id": "5401h5E-nnY0"
			},
			"outputs": [],
			"source": [
				"# Cell 16\n",
				"# Change lr to 5e-2 in the config file and run this code block\n",
				"train_loss_history, train_acc_history, valid_loss_history, valid_acc_history = train_model(\"configs/config_exp.yaml\")"
			]
		},
		{
			"cell_type": "code",
			"execution_count": null,
			"id": "cxd1EVzU4toK",
			"metadata": {
				"id": "cxd1EVzU4toK"
			},
			"outputs": [],
			"source": [
				"# Cell 17\n",
				"plot_curves(train_loss_history, train_acc_history, valid_loss_history, valid_acc_history)"
			]
		},
		{
			"cell_type": "markdown",
			"id": "uVpM6huQoXE_",
			"metadata": {
				"id": "uVpM6huQoXE_"
			},
			"source": [
				"Describe and explain your findings here:"
			]
		},
		{
			"cell_type": "markdown",
			"id": "dr-SDC7CpRZ7",
			"metadata": {
				"id": "dr-SDC7CpRZ7"
			},
			"source": [
				"# Regularization\n",
				"\n",
				"- Tune the Two Layer Neural Network with various regularization coefficients (while keeping all other hyperparameters constant) by changing the config file.\n",
				"  \n",
				"  - reg = 1e-1\n",
				"  - reg = 1e-2\n",
				"  - reg = 1e-3\n",
				"  - reg = 1e-4\n",
				"  - reg = 1\n",
				"\n",
				"When you are making changes to the regularization/learning rate values in the `.yaml` files, please do not use scientific notation in the `.yaml` files i.e. instead of writing `1e-1` please write `0.1`. You may create multiple config files for tuning the learning rate and the regularization strength.\n"
			]
		},
		{
			"cell_type": "code",
			"execution_count": null,
			"id": "bfiytf2Gpyqk",
			"metadata": {
				"id": "bfiytf2Gpyqk"
			},
			"outputs": [],
			"source": [
				"# Cell 18\n",
				"# Change reg to 1e-1 in the config file and run this code block\n",
				"train_loss_history, train_acc_history, valid_loss_history, valid_acc_history = train_model(\"configs/config_exp.yaml\")"
			]
		},
		{
			"cell_type": "code",
			"execution_count": null,
			"id": "ztymnxXi4vhY",
			"metadata": {
				"id": "ztymnxXi4vhY"
			},
			"outputs": [],
			"source": [
				"# Cell 19\n",
				"plot_curves(train_loss_history, train_acc_history, valid_loss_history, valid_acc_history)"
			]
		},
		{
			"cell_type": "code",
			"execution_count": null,
			"id": "ixC1ACAKp2ul",
			"metadata": {
				"id": "ixC1ACAKp2ul"
			},
			"outputs": [],
			"source": [
				"# Cell 20\n",
				"# Change reg to 1e-2 in the config file and run this code block\n",
				"train_loss_history, train_acc_history, valid_loss_history, valid_acc_history = train_model(\"configs/config_exp.yaml\")"
			]
		},
		{
			"cell_type": "code",
			"execution_count": null,
			"id": "geIjj2FF4wbu",
			"metadata": {
				"id": "geIjj2FF4wbu"
			},
			"outputs": [],
			"source": [
				"# Cell 21\n",
				"plot_curves(train_loss_history, train_acc_history, valid_loss_history, valid_acc_history)"
			]
		},
		{
			"cell_type": "code",
			"execution_count": null,
			"id": "OoFt--Opp3OX",
			"metadata": {
				"id": "OoFt--Opp3OX"
			},
			"outputs": [],
			"source": [
				"# Cell 22\n",
				"# Change reg to 1e-3 in the config file and run this code block\n",
				"train_loss_history, train_acc_history, valid_loss_history, valid_acc_history = train_model(\"configs/config_exp.yaml\")"
			]
		},
		{
			"cell_type": "code",
			"execution_count": null,
			"id": "qzzg2hZr4xD8",
			"metadata": {
				"id": "qzzg2hZr4xD8"
			},
			"outputs": [],
			"source": [
				"# Cell 23\n",
				"plot_curves(train_loss_history, train_acc_history, valid_loss_history, valid_acc_history)"
			]
		},
		{
			"cell_type": "code",
			"execution_count": null,
			"id": "gdQVCK7Up3sZ",
			"metadata": {
				"id": "gdQVCK7Up3sZ"
			},
			"outputs": [],
			"source": [
				"# Cell 24\n",
				"# Change reg to 1e-4 in the config file and run this code block\n",
				"train_loss_history, train_acc_history, valid_loss_history, valid_acc_history = train_model(\"configs/config_exp.yaml\")"
			]
		},
		{
			"cell_type": "code",
			"execution_count": null,
			"id": "DFbDYzRo4x0h",
			"metadata": {
				"id": "DFbDYzRo4x0h"
			},
			"outputs": [],
			"source": [
				"# Cell 25\n",
				"plot_curves(train_loss_history, train_acc_history, valid_loss_history, valid_acc_history)"
			]
		},
		{
			"cell_type": "code",
			"execution_count": null,
			"id": "oxMxdmE8p594",
			"metadata": {
				"id": "oxMxdmE8p594"
			},
			"outputs": [],
			"source": [
				"# Cell 26\n",
				"# Change reg to 1 in the config file and run this code block\n",
				"train_loss_history, train_acc_history, valid_loss_history, valid_acc_history = train_model(\"configs/config_exp.yaml\")"
			]
		},
		{
			"cell_type": "code",
			"execution_count": null,
			"id": "403HEptA4ybf",
			"metadata": {
				"id": "403HEptA4ybf"
			},
			"outputs": [],
			"source": [
				"# Cell 27\n",
				"plot_curves(train_loss_history, train_acc_history, valid_loss_history, valid_acc_history)"
			]
		},
		{
			"cell_type": "markdown",
			"id": "m4BdlEBfp8Qx",
			"metadata": {
				"id": "m4BdlEBfp8Qx"
			},
			"source": [
				"Describe and explain your findings here:"
			]
		},
		{
			"cell_type": "markdown",
			"id": "lF8bRK8dqAKO",
			"metadata": {
				"id": "lF8bRK8dqAKO"
			},
			"source": [
				"## Hyper-parameter Tuning\n",
				"\n",
				"You are now free to tune any hyperparameters for better accuracy. In this block type the configuration of your best model and provide a brief explanation of why it works.\n",
				"\n",
				"In the previous section, you should have achieved around 70% and 90% validation accuracy (+/- 10%) with the softmax and two-layer networks, respectively. For your tuning, we expect at least 65% validation accuracy, but try to beat your best numbers from the previous section. "
			]
		},
		{
			"cell_type": "code",
			"execution_count": null,
			"id": "KF6RtCM6rC3S",
			"metadata": {
				"id": "KF6RtCM6rC3S"
			},
			"outputs": [],
			"source": [
				"# Cell 28\n",
				"# hyperparameter tuning\n",
				"train_loss_history, train_acc_history, valid_loss_history, valid_acc_history = train_model(\"configs/config_exp.yaml\")"
			]
		},
		{
			"cell_type": "code",
			"execution_count": null,
			"id": "O2NcyG2j44lE",
			"metadata": {
				"id": "O2NcyG2j44lE"
			},
			"outputs": [],
			"source": [
				"# Cell 29\n",
				"plot_curves(train_loss_history, train_acc_history, valid_loss_history, valid_acc_history)"
			]
		}
	],
	"metadata": {
		"colab": {
			"collapsed_sections": [],
			"provenance": []
		},
		"kernelspec": {
			"display_name": "Python 3 (ipykernel)",
			"language": "python",
			"name": "python3"
		},
		"language_info": {
			"codemirror_mode": {
				"name": "ipython",
				"version": 3
			},
			"file_extension": ".py",
			"mimetype": "text/x-python",
			"name": "python",
			"nbconvert_exporter": "python",
			"pygments_lexer": "ipython3",
			"version": "3.10.4"
		}
	},
	"nbformat": 4,
	"nbformat_minor": 5
}
