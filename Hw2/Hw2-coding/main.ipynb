{
 "cells": [
  {
   "cell_type": "markdown",
   "id": "wpvzcMuc5EXM",
   "metadata": {
    "id": "wpvzcMuc5EXM"
   },
   "source": [
    "###Mount Google Drive"
   ]
  },
  {
   "cell_type": "code",
   "execution_count": null,
   "id": "hBD1zdSe0OuY",
   "metadata": {
    "id": "hBD1zdSe0OuY",
    "scrolled": true
   },
   "outputs": [],
   "source": [
    "# Cell 1\n",
    "from google.colab import drive\n",
    "drive.mount('/content/drive')"
   ]
  },
  {
   "cell_type": "code",
   "execution_count": null,
   "id": "7ba5b540",
   "metadata": {},
   "outputs": [],
   "source": [
    "#Cell 1.5\n",
    "%reload_ext autoreload\n",
    "%autoreload 2"
   ]
  },
  {
   "cell_type": "markdown",
   "id": "NMJSBzha56Cm",
   "metadata": {
    "id": "NMJSBzha56Cm"
   },
   "source": [
    "###Part1: Implementing CNN from Scratch"
   ]
  },
  {
   "cell_type": "code",
   "execution_count": null,
   "id": "KCg3TIH79zYi",
   "metadata": {
    "id": "KCg3TIH79zYi"
   },
   "outputs": [],
   "source": [
    "# Cell 2\n",
    "%cd /content/drive/MyDrive/hw2/student_version/part1-convnet/"
   ]
  },
  {
   "cell_type": "markdown",
   "id": "H_JFrDjX9kns",
   "metadata": {
    "id": "H_JFrDjX9kns"
   },
   "source": [
    "Load CIFAR-10 data"
   ]
  },
  {
   "cell_type": "code",
   "execution_count": null,
   "id": "HLp78q5P19ed",
   "metadata": {
    "id": "HLp78q5P19ed"
   },
   "outputs": [],
   "source": [
    "# Cell 3\n",
    "%cd data\n",
    "!sh get_data.sh\n",
    "%cd .."
   ]
  },
  {
   "cell_type": "markdown",
   "id": "N3rsFEHhDIKD",
   "metadata": {
    "id": "N3rsFEHhDIKD"
   },
   "source": [
    "Cross-check your implementation"
   ]
  },
  {
   "cell_type": "code",
   "execution_count": null,
   "id": "YCVwKF1M6vAb",
   "metadata": {
    "id": "YCVwKF1M6vAb"
   },
   "outputs": [],
   "source": [
    "# Cell 3\n",
    "# If you get an error saying test not found, add an __init__.py file in the\n",
    "# tests directory\n",
    "!python -m unittest tests.test_conv"
   ]
  },
  {
   "cell_type": "markdown",
   "id": "RuablKpuDQLh",
   "metadata": {
    "id": "RuablKpuDQLh"
   },
   "source": [
    "Train your ConvNet"
   ]
  },
  {
   "cell_type": "code",
   "execution_count": null,
   "id": "e6846de3",
   "metadata": {
    "id": "e6846de3"
   },
   "outputs": [],
   "source": [
    "# Cell 4\n",
    "!python train.py"
   ]
  },
  {
   "cell_type": "markdown",
   "id": "AAKJrcY6q9b4",
   "metadata": {
    "id": "AAKJrcY6q9b4"
   },
   "source": [
    "Visualize Part-1 training curve"
   ]
  },
  {
   "cell_type": "code",
   "execution_count": null,
   "id": "jU-GcjPZonLH",
   "metadata": {
    "id": "jU-GcjPZonLH"
   },
   "outputs": [],
   "source": [
    "# Cell 5\n",
    "from IPython.display import display, Image\n",
    "display(Image(filename='./train.png', width=500))"
   ]
  },
  {
   "cell_type": "markdown",
   "id": "DJq4sV4Hz0dx",
   "metadata": {
    "id": "DJq4sV4Hz0dx"
   },
   "source": [
    "## Zip your Part-1 submission"
   ]
  },
  {
   "cell_type": "code",
   "execution_count": null,
   "id": "A9YILla3z3Jf",
   "metadata": {
    "id": "A9YILla3z3Jf"
   },
   "outputs": [],
   "source": [
    "# Cell 6\n",
    "!python3 collect_submission.py"
   ]
  },
  {
   "cell_type": "markdown",
   "id": "ZZNrCDMGDniz",
   "metadata": {
    "id": "ZZNrCDMGDniz"
   },
   "source": [
    "###Part2: PyTorch"
   ]
  },
  {
   "cell_type": "code",
   "execution_count": null,
   "id": "uboHDrlHEMhI",
   "metadata": {
    "id": "uboHDrlHEMhI"
   },
   "outputs": [],
   "source": [
    "# Cell 7\n",
    "%cd /content/drive/MyDrive/hw2/student_version/part2-pytorch/"
   ]
  },
  {
   "cell_type": "markdown",
   "id": "PNu2vcVQGMyf",
   "metadata": {
    "id": "PNu2vcVQGMyf"
   },
   "source": [
    "Load CIFAR-10 data"
   ]
  },
  {
   "cell_type": "code",
   "execution_count": null,
   "id": "BpaX2bPlGm9V",
   "metadata": {
    "id": "BpaX2bPlGm9V"
   },
   "outputs": [],
   "source": [
    "# Cell 8\n",
    "%cd data\n",
    "!sh get_data.sh\n",
    "%cd .."
   ]
  },
  {
   "cell_type": "markdown",
   "id": "HgRcAfN7Helz",
   "metadata": {
    "id": "HgRcAfN7Helz"
   },
   "source": [
    "Train your Two-Layer Net"
   ]
  },
  {
   "cell_type": "code",
   "execution_count": null,
   "id": "n4SvtJfjGJYf",
   "metadata": {
    "id": "n4SvtJfjGJYf"
   },
   "outputs": [],
   "source": [
    "# Cell 9\n",
    "!python main.py --config configs/config_twolayer.yaml"
   ]
  },
  {
   "cell_type": "markdown",
   "id": "ZluqyoHLIzMn",
   "metadata": {
    "id": "ZluqyoHLIzMn"
   },
   "source": [
    "Train your Vanilla ConvNet"
   ]
  },
  {
   "cell_type": "code",
   "execution_count": null,
   "id": "KE1K1jfXI3yr",
   "metadata": {
    "id": "KE1K1jfXI3yr"
   },
   "outputs": [],
   "source": [
    "# Cell 10\n",
    "!python main.py --config configs/config_vanilla_cnn.yaml"
   ]
  },
  {
   "cell_type": "markdown",
   "id": "QfQGZSopJ_Az",
   "metadata": {
    "id": "QfQGZSopJ_Az"
   },
   "source": [
    "Train your own model"
   ]
  },
  {
   "cell_type": "code",
   "execution_count": null,
   "id": "lP9jXoFxJ7h7",
   "metadata": {
    "id": "lP9jXoFxJ7h7"
   },
   "outputs": [],
   "source": [
    "# Cell 11\n",
    "!python main.py --config configs/config_mymodel.yaml"
   ]
  },
  {
   "cell_type": "markdown",
   "id": "Q5DhTqGkz_V9",
   "metadata": {
    "id": "Q5DhTqGkz_V9"
   },
   "source": [
    "## Zip your Part-2 submission"
   ]
  },
  {
   "cell_type": "code",
   "execution_count": null,
   "id": "Ti9xxA3kz--E",
   "metadata": {
    "id": "Ti9xxA3kz--E"
   },
   "outputs": [],
   "source": [
    "# Cell 12\n",
    "# If you get an error saying test not found, add an __init__.py file in the\n",
    "# tests directory\n",
    "!python3 collect_submission.py"
   ]
  },
  {
   "cell_type": "markdown",
   "id": "UJgUiTH5i01C",
   "metadata": {
    "id": "UJgUiTH5i01C"
   },
   "source": [
    "# **Assignment 2 Writeup**\n",
    "\n",
    "- Name:\n",
    "- GT Email:\n",
    "- GT ID:\n",
    "\n"
   ]
  },
  {
   "cell_type": "markdown",
   "id": "izgRR9ROxXDT",
   "metadata": {
    "id": "izgRR9ROxXDT"
   },
   "source": [
    "How does the training curve in Part-1 look like?"
   ]
  },
  {
   "cell_type": "markdown",
   "id": "uVpM6huQoXE_",
   "metadata": {
    "id": "uVpM6huQoXE_"
   },
   "source": [
    "What are the accuracies with these networks?\n",
    "\n",
    "- Two-Layer Network:\n",
    "- Vanilla ConvNet:\n",
    "- My ConvNet model:\n",
    "\n",
    "\n",
    "\n"
   ]
  }
 ],
 "metadata": {
  "accelerator": "GPU",
  "colab": {
   "gpuType": "T4",
   "provenance": []
  },
  "kernelspec": {
   "display_name": "Python 3",
   "name": "python3"
  },
  "language_info": {
   "codemirror_mode": {
    "name": "ipython",
    "version": 3
   },
   "file_extension": ".py",
   "mimetype": "text/x-python",
   "name": "python",
   "nbconvert_exporter": "python",
   "pygments_lexer": "ipython3",
   "version": "3.10.4"
  }
 },
 "nbformat": 4,
 "nbformat_minor": 5
}
