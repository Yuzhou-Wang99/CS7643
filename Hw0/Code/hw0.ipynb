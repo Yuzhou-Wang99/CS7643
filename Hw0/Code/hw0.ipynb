{
  "cells": [
    {
      "cell_type": "markdown",
      "metadata": {
        "id": "cuIWYRB3Di2m"
      },
      "source": [
        "# Google Colab Setup for Assignment\n",
        "\n",
        "### Introduction to Google Colab\n",
        "Google Colab is a free, cloud-based platform that allows you to write and execute Python code through your browser. It provides free access to computing resources including GPUs, making it an excellent tool for machine learning and deep learning projects. We'll be using Colab for our assignments this semester due to its ease of use and consistent environment across all students.\n",
        "\n",
        "### Setting Up Your Assignment Environment\n",
        "To ensure that everyone has access to the necessary files and can save their work, we'll be using Google Drive integration with Colab. The code below mounts your Google Drive to the Colab environment and sets up the correct working directory for the assignment.\n",
        "\n",
        "Please run the following code, replacing the `FOLDERNAME` with the correct path to your assignment folder in Google Drive:"
      ]
    },
    {
      "cell_type": "code",
      "execution_count": null,
      "metadata": {
        "colab": {
          "base_uri": "https://localhost:8080/"
        },
        "id": "zOt89vIWDi2q",
        "outputId": "46b2adf0-4e52-4f51-d81c-8ba556e03f8d"
      },
      "outputs": [
        {
          "output_type": "stream",
          "name": "stdout",
          "text": [
            "Mounted at /content/drive\n"
          ]
        }
      ],
      "source": [
        "from google.colab import drive\n",
        "import os\n",
        "\n",
        "# 1. Mounting Google Drive: This allows Colab to access files in your Google Drive\n",
        "drive.mount('/content/drive')\n",
        "\n",
        "# 2. Tell Colab where to find your assignment files and where to save your work\n",
        "\n",
        "# TODO: Enter the relative path in your Google Drive of the assignment.\n",
        "FOLDERNAME = \"CS 7643/ps0/\" # e.g. 'cs7643/ps0/'\n",
        "\n",
        "assert FOLDERNAME is not None, \"[!] Enter the foldername.\"\n",
        "\n",
        "assert os.path.exists(\"/content/drive/MyDrive/\" + FOLDERNAME), \"Make sure your FOLDERNAME is correct\""
      ]
    },
    {
      "cell_type": "markdown",
      "metadata": {
        "id": "vbl5oCtkFOx0"
      },
      "source": [
        "# NumPy Exercises\n",
        "\n",
        "\n",
        "---\n",
        "\n",
        "\n",
        "## In this assignment we are going to do some basic coding exercises using NumPy.\n",
        "\n",
        "### **IMPORTANT**: Remember to keep all output visible. We will grade a PDF export of this notebook."
      ]
    },
    {
      "cell_type": "code",
      "execution_count": null,
      "metadata": {
        "id": "HGnDB8kNFIUi"
      },
      "outputs": [],
      "source": [
        "import numpy as np"
      ]
    },
    {
      "cell_type": "markdown",
      "metadata": {
        "id": "ap-UtdGAGVpY"
      },
      "source": [
        "### 1. Create a zero vector of size 10"
      ]
    },
    {
      "cell_type": "code",
      "execution_count": null,
      "metadata": {
        "id": "XO1hKb6vGJ1S",
        "colab": {
          "base_uri": "https://localhost:8080/"
        },
        "outputId": "2abc2ce7-b616-4524-9c38-cd0643e87bc0"
      },
      "outputs": [
        {
          "output_type": "stream",
          "name": "stdout",
          "text": [
            "[0. 0. 0. 0. 0. 0. 0. 0. 0. 0.]\n"
          ]
        }
      ],
      "source": [
        "a = None\n",
        "###################\n",
        "a = np.zeros(10)\n",
        "###################\n",
        "print(a)"
      ]
    },
    {
      "cell_type": "markdown",
      "metadata": {
        "id": "fICmXfMJGaXY"
      },
      "source": [
        "### 2. Create a **int64** matrix of size (10, 10) with the diagonal values set to -1"
      ]
    },
    {
      "cell_type": "code",
      "execution_count": null,
      "metadata": {
        "id": "N16RYuA6GqiQ",
        "colab": {
          "base_uri": "https://localhost:8080/"
        },
        "outputId": "6a93c453-6c0f-4469-ded2-2eaf86bb83c9"
      },
      "outputs": [
        {
          "output_type": "stream",
          "name": "stdout",
          "text": [
            "[[-1  0  0  0  0  0  0  0  0  0]\n",
            " [ 0 -1  0  0  0  0  0  0  0  0]\n",
            " [ 0  0 -1  0  0  0  0  0  0  0]\n",
            " [ 0  0  0 -1  0  0  0  0  0  0]\n",
            " [ 0  0  0  0 -1  0  0  0  0  0]\n",
            " [ 0  0  0  0  0 -1  0  0  0  0]\n",
            " [ 0  0  0  0  0  0 -1  0  0  0]\n",
            " [ 0  0  0  0  0  0  0 -1  0  0]\n",
            " [ 0  0  0  0  0  0  0  0 -1  0]\n",
            " [ 0  0  0  0  0  0  0  0  0 -1]]\n",
            "int64\n"
          ]
        }
      ],
      "source": [
        "a = None\n",
        "###################\n",
        "a = np.zeros((10, 10), dtype=np.int64)\n",
        "np.fill_diagonal(a, -1)\n",
        "###################\n",
        "print(a)\n",
        "print(a.dtype)"
      ]
    },
    {
      "cell_type": "markdown",
      "metadata": {
        "id": "_nVeknL5G-sj"
      },
      "source": [
        " ### 3. Create a 10x10 matrix and fill it with a checkerboard pattern"
      ]
    },
    {
      "cell_type": "code",
      "execution_count": null,
      "metadata": {
        "id": "DRzmDNfoHco1",
        "colab": {
          "base_uri": "https://localhost:8080/"
        },
        "outputId": "017b76b4-32d0-4401-df85-a22e3c967081"
      },
      "outputs": [
        {
          "output_type": "stream",
          "name": "stdout",
          "text": [
            "[[1 0 1 0 1 0 1 0 1 0]\n",
            " [0 1 0 1 0 1 0 1 0 1]\n",
            " [1 0 1 0 1 0 1 0 1 0]\n",
            " [0 1 0 1 0 1 0 1 0 1]\n",
            " [1 0 1 0 1 0 1 0 1 0]\n",
            " [0 1 0 1 0 1 0 1 0 1]\n",
            " [1 0 1 0 1 0 1 0 1 0]\n",
            " [0 1 0 1 0 1 0 1 0 1]\n",
            " [1 0 1 0 1 0 1 0 1 0]\n",
            " [0 1 0 1 0 1 0 1 0 1]]\n"
          ]
        }
      ],
      "source": [
        "a = None\n",
        "###################\n",
        "a = np.zeros((10, 10), dtype=np.int64)\n",
        "a[::2, ::2] = 1\n",
        "a[1::2, 1::2] = 1\n",
        "###################\n",
        "print(a)"
      ]
    },
    {
      "cell_type": "markdown",
      "metadata": {
        "id": "5ohPDvtUM_iC"
      },
      "source": [
        "### 4. Randomly place five 1's in a matrix"
      ]
    },
    {
      "cell_type": "code",
      "execution_count": null,
      "metadata": {
        "id": "uJio-BElNMkg",
        "colab": {
          "base_uri": "https://localhost:8080/"
        },
        "outputId": "041a37cc-7944-46f4-b0ad-ac28a5e3714d"
      },
      "outputs": [
        {
          "output_type": "stream",
          "name": "stdout",
          "text": [
            "[[0. 0. 0. 0. 0. 0. 0. 0.]\n",
            " [0. 1. 0. 0. 0. 1. 0. 0.]\n",
            " [0. 0. 0. 0. 0. 0. 0. 0.]\n",
            " [0. 0. 0. 0. 0. 0. 0. 0.]\n",
            " [0. 0. 0. 0. 0. 0. 0. 0.]\n",
            " [0. 0. 0. 0. 0. 0. 0. 1.]\n",
            " [0. 0. 0. 0. 0. 0. 0. 0.]\n",
            " [0. 0. 0. 0. 1. 0. 0. 1.]]\n"
          ]
        }
      ],
      "source": [
        "a = np.zeros((8, 8))\n",
        "###################\n",
        "indices = np.random.choice(a.size, 5, replace=False)\n",
        "a.flat[indices] = 1\n",
        "###################\n",
        "print(a)"
      ]
    },
    {
      "cell_type": "markdown",
      "metadata": {
        "id": "sW3XT01DHhUA"
      },
      "source": [
        "### 5. Channel conventions\n",
        "\n",
        "Most image data is given in a *channel-last convention*, e.g., an image is represented as a tensor of shape `(224, 224, 3)`, with the last dimension as the RGB channel dimension. In some deep learning frameworks such as PyTorch, however, images are often taken as input in *channel-first convention*. Now you are given a channel-last image tensor `im`. Convert it to a *channel-first* image tensor."
      ]
    },
    {
      "cell_type": "code",
      "execution_count": null,
      "metadata": {
        "id": "Gg981YYtJ9TC",
        "colab": {
          "base_uri": "https://localhost:8080/"
        },
        "outputId": "52e55192-1ff7-48ee-d389-4fb0f5095c21"
      },
      "outputs": [
        {
          "output_type": "stream",
          "name": "stdout",
          "text": [
            "(224, 224, 3)\n",
            "(3, 224, 224)\n"
          ]
        }
      ],
      "source": [
        "im = np.random.randn(224, 224, 3)\n",
        "print(im.shape)\n",
        "\n",
        "###################\n",
        "im = np.moveaxis(im, -1, 0)\n",
        "###################\n",
        "\n",
        "print(im.shape)\n"
      ]
    },
    {
      "cell_type": "markdown",
      "metadata": {
        "id": "UfsUPVD_KLww"
      },
      "source": [
        "### 6. Color channels\n",
        "Now given the channel-first RGB image `im`, swap its color channel to BGR.\n",
        "\n",
        "**Note**: You don't need to print anything for this question."
      ]
    },
    {
      "cell_type": "code",
      "execution_count": null,
      "metadata": {
        "id": "TjGl4XabKKo7"
      },
      "outputs": [],
      "source": [
        "###################\n",
        "im = im[::-1, :, :]\n",
        "###################"
      ]
    },
    {
      "cell_type": "markdown",
      "metadata": {
        "id": "iyqSKkVMK-6B"
      },
      "source": [
        "### 7. Given a 1D array, negate all elements which are between 3 and 8, in place."
      ]
    },
    {
      "cell_type": "code",
      "execution_count": null,
      "metadata": {
        "id": "D_u4vohdLb4l",
        "colab": {
          "base_uri": "https://localhost:8080/"
        },
        "outputId": "45402aa0-ba73-4002-b32a-68a8847bc58e"
      },
      "outputs": [
        {
          "output_type": "stream",
          "name": "stdout",
          "text": [
            "[ 0  1  2  3 -4 -5 -6 -7  8  9 10]\n"
          ]
        }
      ],
      "source": [
        "a = np.arange(11)\n",
        "###################\n",
        "a[(a > 3) & (a < 8)] *= -1\n",
        "###################\n",
        "print(a)"
      ]
    },
    {
      "cell_type": "markdown",
      "metadata": {
        "id": "cq_jrfQoLl4E"
      },
      "source": [
        "###8. Convert a `float64` array to an `uint8` array"
      ]
    },
    {
      "cell_type": "code",
      "execution_count": null,
      "metadata": {
        "id": "gqor8qpfMQGr",
        "colab": {
          "base_uri": "https://localhost:8080/"
        },
        "outputId": "e6756c07-758f-4742-ec94-4d915e7e969e"
      },
      "outputs": [
        {
          "output_type": "stream",
          "name": "stdout",
          "text": [
            "float64\n",
            "uint8\n"
          ]
        }
      ],
      "source": [
        "a = np.zeros(10)\n",
        "print(a.dtype)\n",
        "###################\n",
        "a = (a * 255).astype(np.uint8)\n",
        "###################\n",
        "print(a.dtype)"
      ]
    },
    {
      "cell_type": "markdown",
      "metadata": {
        "id": "GRZ2vP8WNtCj"
      },
      "source": [
        "### 9. Subtract the mean of each row of a matrix"
      ]
    },
    {
      "cell_type": "code",
      "execution_count": null,
      "metadata": {
        "id": "Ifznj_s8MeJZ",
        "colab": {
          "base_uri": "https://localhost:8080/"
        },
        "outputId": "ce966be8-c752-482c-aed7-7b0f9209fe6b"
      },
      "outputs": [
        {
          "output_type": "stream",
          "name": "stdout",
          "text": [
            "[[-1.21146082  1.01782617 -0.20347257 -0.17403946  0.57114668]\n",
            " [ 0.26129697  0.10594407  0.2496439  -1.03796076  0.42107581]\n",
            " [-1.37466534  0.10700021 -0.16776447  2.27377404 -0.83834444]]\n"
          ]
        }
      ],
      "source": [
        "a = np.random.randn(3,5)\n",
        "###################\n",
        "a = a - a.mean(axis=1, keepdims=True)\n",
        "###################\n",
        "print(a)"
      ]
    },
    {
      "cell_type": "markdown",
      "metadata": {
        "id": "IGMxeKk6N_XN"
      },
      "source": [
        "### 10. If you did Q9 with a loop, can you do it without loop?\n",
        "Feel free to ignore this question if you already did it in Q9."
      ]
    },
    {
      "cell_type": "code",
      "execution_count": null,
      "metadata": {
        "id": "HY54rxYwOMHM",
        "colab": {
          "base_uri": "https://localhost:8080/"
        },
        "outputId": "ec1d0316-fc5b-44ff-e077-7532c5d0cd04"
      },
      "outputs": [
        {
          "output_type": "stream",
          "name": "stdout",
          "text": [
            "[[-0.99041376 -0.70638972  0.78690337 -0.22535341  1.23769789]\n",
            " [-0.68688421  1.39441425 -0.80613746  0.18362066 -0.69620401]\n",
            " [-0.16733512 -0.9773473  -1.14995055 -0.88776314 -0.7242936 ]]\n"
          ]
        }
      ],
      "source": [
        "a = np.random.randn(3, 5)\n",
        "###################\n",
        "# Your code here\n",
        "###################\n",
        "print(a)"
      ]
    },
    {
      "cell_type": "markdown",
      "metadata": {
        "id": "AeMMD7yXOcej"
      },
      "source": [
        "### 11. Sort a matrix `a` by its second column"
      ]
    },
    {
      "cell_type": "code",
      "execution_count": null,
      "metadata": {
        "id": "Nus-wxcjOlPR",
        "colab": {
          "base_uri": "https://localhost:8080/"
        },
        "outputId": "0dfe327b-da72-4b12-d981-041abe33ab43"
      },
      "outputs": [
        {
          "output_type": "stream",
          "name": "stdout",
          "text": [
            "[[2 0]\n",
            " [2 1]\n",
            " [3 2]\n",
            " [4 2]\n",
            " [0 3]]\n"
          ]
        }
      ],
      "source": [
        "a = np.random.randint(low=0, high=5, size=(5, 2))\n",
        "###################\n",
        "a = a[a[:, 1].argsort()]\n",
        "###################\n",
        "print(a)"
      ]
    },
    {
      "cell_type": "markdown",
      "metadata": {
        "id": "BRt9msIUPMj6"
      },
      "source": [
        "### 12. One-hot encoding\n",
        "One-hot is a commonly-used representation in Deep Learning. For example, an integer `5` is represented as a size-*N* array where the 5th element is `1` and all other elements are all zeros. For example, if `N=10`, we have:\n",
        "\n",
        "`[0, 0, 0, 0, 1, 0, 0, 0, 0, 0]`\n",
        "\n",
        "Convert the following array of Integer to its one-hot encoding with `N=10`. The result should be a matrix (2D array) of shape `(5, 10)`."
      ]
    },
    {
      "cell_type": "code",
      "execution_count": null,
      "metadata": {
        "id": "EsfEq7rzRO4I",
        "colab": {
          "base_uri": "https://localhost:8080/"
        },
        "outputId": "45ba0da5-ae3b-446b-8323-b0e77213047d"
      },
      "outputs": [
        {
          "output_type": "stream",
          "name": "stdout",
          "text": [
            "[0 1 2 3 4]\n",
            "[[0. 0. 0. 0. 0. 0. 0. 0. 0. 1.]\n",
            " [1. 0. 0. 0. 0. 0. 0. 0. 0. 0.]\n",
            " [0. 1. 0. 0. 0. 0. 0. 0. 0. 0.]\n",
            " [0. 0. 1. 0. 0. 0. 0. 0. 0. 0.]\n",
            " [0. 0. 0. 1. 0. 0. 0. 0. 0. 0.]]\n"
          ]
        }
      ],
      "source": [
        "a = np.arange(5)\n",
        "###################\n",
        "N = 10\n",
        "one_hot = np.zeros((a.size, N))\n",
        "one_hot[np.arange(a.size), a-1] = 1\n",
        "###################\n",
        "print(a)\n",
        "print(one_hot)"
      ]
    },
    {
      "cell_type": "markdown",
      "metadata": {
        "id": "TI6e2ZAOT1hJ"
      },
      "source": [
        "### 13. Broadcasting\n",
        "In a single expression, multiply the n-th row of matrix `a` with the n-th element in vector `b`."
      ]
    },
    {
      "cell_type": "code",
      "execution_count": null,
      "metadata": {
        "id": "qiqb8BuNT1-t"
      },
      "outputs": [],
      "source": [
        "a = np.ones((5, 5))\n",
        "b = np.arange(5)\n",
        "###################\n",
        "a = a * b[:, np.newaxis]\n",
        "###################"
      ]
    },
    {
      "cell_type": "markdown",
      "metadata": {
        "id": "nuGIeDqbVNqO"
      },
      "source": [
        "### 14. Padding\n",
        "Without using `np.pad`, pad the following array with a border of zeros, i.e.,\n",
        "\n",
        "\n",
        "\n",
        "```\n",
        "array([[0., 0., 0., 0., 0., 0.],\n",
        "       [0., 1., 1., 1., 1., 0.],\n",
        "       [0., 1., 1., 1., 1., 0.],\n",
        "       [0., 1., 1., 1., 1., 0.],\n",
        "       [0., 1., 1., 1., 1., 0.],\n",
        "       [0., 0., 0., 0., 0., 0.]])\n",
        "```\n",
        "\n"
      ]
    },
    {
      "cell_type": "code",
      "execution_count": null,
      "metadata": {
        "id": "QBkSZtX1WWru"
      },
      "outputs": [],
      "source": [
        "a = np.ones((4, 4))\n",
        "###################\n",
        "padded = np.zeros((a.shape[0] + 2, a.shape[1] + 2))\n",
        "padded[1:-1, 1:-1] = a\n",
        "###################"
      ]
    },
    {
      "cell_type": "markdown",
      "metadata": {
        "id": "k8YkkguXDi2v"
      },
      "source": [
        "### 14. Numerical and Analytical Differentiation\n",
        "\n",
        "**Background**\n",
        "\n",
        "In deep learning and optimization, we often need to compute derivatives of complex functions that involve vectors and matrices. While automatic differentiation is commonly used in modern frameworks, understanding numerical differentiation is crucial for grasping the underlying concepts and debugging.\n",
        "\n",
        "One simple method for numerical differentiation is the finite difference method. This method approximates the derivative of a function by calculating the rate of change over a small interval.\n",
        "\n",
        "For a function $f(\\mathbf{x})$ where $\\mathbf{x}$ is a vector, the $i$-th partial derivative can be approximated using the central difference formula:\n",
        "\n",
        "$$\\frac{\\partial f}{\\partial x_i} \\approx \\frac{f(\\mathbf{x} + h\\mathbf{e}_i) - f(\\mathbf{x} - h\\mathbf{e}_i)}{2h}$$\n",
        "\n",
        "Where:\n",
        "\n",
        "- $f(\\mathbf{x})$ is the function we want to differentiate\n",
        "- $\\mathbf{x}$ is the input vector\n",
        "- $h$ is a small step size\n",
        "- $\\mathbf{e}_i$ is the $i$-th standard basis vector (a vector with 1 in the $i$-th position and 0 elsewhere)\n",
        "\n",
        "Your task is to implement a function that can numerically differentiate an arbitrary Python function that takes a vector input, using the central difference method. You'll then apply this to various functions involving vectors and matrices."
      ]
    },
    {
      "cell_type": "markdown",
      "metadata": {
        "id": "5QC2JHxIDi2v"
      },
      "source": [
        "### 14.a Implement Numerical Differentiation for Vector Inputs\n",
        "\n",
        "Write a function `numerical_gradient(func, x, h=1e-5)` that takes:\n",
        "\n",
        "- `func`: A Python function that takes a numpy array as input and returns a scalar\n",
        "- `x`: The point at which to evaluate the gradient (a numpy array)\n",
        "- `h`: The step size (default to 1e-5)\n",
        "\n",
        "The function should return the approximate gradient of `func` at `x` as a numpy array.\n",
        "\n",
        "Make sure to use vectorized operation to make your computation efficient."
      ]
    },
    {
      "cell_type": "code",
      "execution_count": null,
      "metadata": {
        "id": "376iu96lDi2v"
      },
      "outputs": [],
      "source": [
        "def numerical_gradient(func, x, h=1e-5):\n",
        "    grad = None\n",
        "    ###################\n",
        "    # grad = func(x + h * np.eye(x.size)).T - func(x - h * np.eye(x.size)).T\n",
        "    # grad = grad / (2 * h)\n",
        "\n",
        "    X_plus = x + h * np.eye(x.size)\n",
        "    X_minus = x - h * np.eye(x.size)\n",
        "\n",
        "    f_plus = np.array([func(x_i) for x_i in X_plus])\n",
        "    f_minus = np.array([func(x_i) for x_i in X_minus])\n",
        "\n",
        "    grad = (f_plus - f_minus) / (2 * h)\n",
        "    ###################\n",
        "    return grad"
      ]
    },
    {
      "cell_type": "markdown",
      "metadata": {
        "id": "bZt27L79Di2v"
      },
      "source": [
        "### 14.b Differentiating Simple Functions\n",
        "\n",
        "Apply your numerical_gradient function to the following functions and compare the results with their analytical gradients:\n",
        "\n",
        "- $f(\\mathbf{x}) = \\mathbf{x}^T \\mathbf{x}$\n",
        "- $f(\\mathbf{x}) = \\sin(x_1) + \\cos(x_2) + \\cos(x_3)$\n",
        "- $f(\\mathbf{x}) = \\mathbf{x}^T A \\mathbf{x}$, where $A$ is a 3x3 matrix with random entries\n",
        "\n",
        "For each function, calculate the numerical gradient at $\\mathbf{x} = [1, 1, 1]$ functions. Compare these to the true gradients."
      ]
    },
    {
      "cell_type": "code",
      "execution_count": null,
      "metadata": {
        "colab": {
          "base_uri": "https://localhost:8080/"
        },
        "id": "0ejpgx8QDi2w",
        "outputId": "f6f5f28e-33e3-4ece-a5ad-f66a87900bdf"
      },
      "outputs": [
        {
          "output_type": "stream",
          "name": "stdout",
          "text": [
            "Function 1: f(x) = x^T x\n",
            "Numerical gradient: [2. 2. 2.]\n",
            "Analytical gradient: [2. 2. 2.]\n",
            "Difference: 2.2694036439624267e-11\n",
            "\n",
            "Function 2: f(x) = sin(x_1) + cos(x_2) + cos(x_3)\n",
            "Numerical gradient: [ 0.54030231 -0.84147098 -0.84147098]\n",
            "Analytical gradient: [ 0.54030231 -0.84147098 -0.84147098]\n",
            "Difference: 2.8592656090443453e-11\n",
            "\n",
            "Function 3: f(x) = x^T A x\n",
            "Numerical gradient: [2.83304539 2.93370436 2.41300163]\n",
            "Analytical gradient: [2.83304539 2.93370436 2.41300163]\n",
            "Difference: 2.1535225970175988e-11\n",
            "\n"
          ]
        }
      ],
      "source": [
        "# Function 1: f(x) = x^T x (now 3D)\n",
        "def f1(x):\n",
        "    return np.dot(x, x)\n",
        "\n",
        "def analytical_gradient_f1(x):\n",
        "    ###################\n",
        "    return 2 * x\n",
        "    ###################\n",
        "\n",
        "# Function 2: f(x) = sin(x_1) + cos(x_2) + cos(x_3)\n",
        "def f2(x):\n",
        "    return np.sin(x[0]) + np.cos(x[1]) + np.cos(x[2])\n",
        "\n",
        "def analytical_gradient_f2(x):\n",
        "    ###################\n",
        "    return np.array([np.cos(x[0]), -np.sin(x[1]), -np.sin(x[2])])\n",
        "    ###################\n",
        "\n",
        "# Function 3: f(x) = x^T A x (now 3D)\n",
        "def f3(x, A):\n",
        "    return np.dot(x, np.dot(A, x))\n",
        "\n",
        "def analytical_gradient_f3(x, A):\n",
        "    ###################\n",
        "    return np.dot(A.T, x) + np.dot(A, x)\n",
        "    ###################\n",
        "\n",
        "# Test point (now 3D for all functions)\n",
        "x_3d = np.array([1.0, 1.0, 1.0])\n",
        "\n",
        "# Random 3x3 matrix for function 3\n",
        "A = np.random.randn(3, 3)\n",
        "\n",
        "# Compute and compare gradients\n",
        "def compare_gradients(f, analytical_grad, x, *args):\n",
        "    numerical_grad = numerical_gradient(lambda x: f(x, *args), x)\n",
        "    analytical_grad = analytical_grad(x, *args)\n",
        "\n",
        "    print(f\"Numerical gradient: {numerical_grad}\")\n",
        "    print(f\"Analytical gradient: {analytical_grad}\")\n",
        "    print(f\"Difference: {np.linalg.norm(numerical_grad - analytical_grad)}\")\n",
        "    print()\n",
        "\n",
        "# Test function 1\n",
        "print(\"Function 1: f(x) = x^T x\")\n",
        "compare_gradients(f1, analytical_gradient_f1, x_3d)\n",
        "\n",
        "# Test function 2\n",
        "print(\"Function 2: f(x) = sin(x_1) + cos(x_2) + cos(x_3)\")\n",
        "compare_gradients(f2, analytical_gradient_f2, x_3d)\n",
        "\n",
        "# Test function 3\n",
        "print(\"Function 3: f(x) = x^T A x\")\n",
        "compare_gradients(f3, analytical_gradient_f3, x_3d, A)"
      ]
    },
    {
      "cell_type": "markdown",
      "metadata": {
        "id": "BdiGbVE2Di2w"
      },
      "source": [
        "### 14.c: Differentiate a Complex Vector Function\n",
        "Consider the following more complex function:\n",
        "$$f(\\mathbf{x}) = (\\mathbf{x}^T A \\mathbf{x}) * \\sin(\\mathbf{x}^T \\mathbf{b}) + e^{-\\mathbf{x}^T \\mathbf{x}}$$\n",
        "Where:\n",
        "\n",
        "- $\\mathbf{x}$ is an $n$-dimensional vector (use $n=5$ for this assignment)\n",
        "- $A$ is an $n \\times n$ matrix\n",
        "- $\\mathbf{b}$ is an $n$-dimensional vector\n",
        "\n",
        "\n",
        "Implement this function in Python, generating random values for $A$ and $\\mathbf{b}$.\n",
        "Use your numerical_gradient function to compute its gradient at $\\mathbf{x} = [1, 1, 1, 1, 1]$."
      ]
    },
    {
      "cell_type": "code",
      "execution_count": null,
      "metadata": {
        "colab": {
          "base_uri": "https://localhost:8080/"
        },
        "id": "oaoh6KYsDi2w",
        "outputId": "3955a652-8892-4029-89a9-acad97213aee"
      },
      "outputs": [
        {
          "output_type": "stream",
          "name": "stdout",
          "text": [
            "Gradient at x = [1. 1. 1. 1. 1.]:\n",
            "[-3.0171028  -1.86919823  2.25118     6.7941431   4.03785221]\n"
          ]
        }
      ],
      "source": [
        "# Complex vector function\n",
        "def complex_function(x, A, b):\n",
        "    return (x.T @ A @ x) * np.sin(x.T @ b) + np.exp(-x.T @ x)\n",
        "\n",
        "# Generate random A and b\n",
        "n = 5\n",
        "np.random.seed(42)  # for reproducibility\n",
        "A = np.random.randn(n, n)\n",
        "b = np.random.randn(n)\n",
        "\n",
        "# Compute gradient at x = [1, 1, 1, 1, 1]\n",
        "x = np.ones(n)\n",
        "numerical_grad = numerical_gradient(lambda x: complex_function(x, A, b), x)\n",
        "\n",
        "print(f\"Gradient at x = {x}:\")\n",
        "print(numerical_grad)"
      ]
    },
    {
      "cell_type": "markdown",
      "metadata": {
        "id": "pITRgd2UDi21"
      },
      "source": [
        "### 14.d: Compare with Analytical Gradient Computed by PyTorch\n",
        "\n",
        "PyTorch is a popular open-source machine learning library that we'll be using throughout this semester. It offers dynamic computational graphs, which allow for flexible model design, and provides automatic differentiation capabilities for efficient gradient computations. PyTorch can leverage GPU to massively accelerate training and inference complex models. One of its key features is the ability to compute analytical gradients automatically, which is crucial for training deep neural networks.\n",
        "\n",
        "For a gentle introduction to PyTorch, let's compare the analytical gradient computed by PyTorch with the numerical gradient we implemented earlier. If you're running this notebook locally, make sure you have PyTorch (`torch`) installed. If you're using Google Colab, PyTorch should already be available."
      ]
    },
    {
      "cell_type": "code",
      "execution_count": null,
      "metadata": {
        "colab": {
          "base_uri": "https://localhost:8080/"
        },
        "id": "U_Thk33hDi21",
        "outputId": "70df28c7-1e49-4e8b-895a-c08caf581503"
      },
      "outputs": [
        {
          "output_type": "stream",
          "name": "stdout",
          "text": [
            "Analytical gradient (PyTorch):\n",
            "[-3.0171025 -1.8691981  2.2511797  6.7941427  4.0378523]\n",
            "\n",
            "Numerical gradient (Finite Difference):\n",
            "[-3.0171028  -1.86919823  2.25118     6.7941431   4.03785221]\n",
            "\n",
            "Difference (L2 norm):\n",
            "5.997333888854135e-07\n"
          ]
        }
      ],
      "source": [
        "import torch\n",
        "\n",
        "# Complex vector function (PyTorch version)\n",
        "def complex_function_torch(x, A, b):\n",
        "    return (x @ A @ x) * torch.sin(x @ b) + torch.exp(-x @ x)\n",
        "\n",
        "# Function to compute analytical gradient using PyTorch\n",
        "def compute_analytical_gradient(x_np, A_np, b_np):\n",
        "    x = torch.tensor(x_np, requires_grad=True, dtype=torch.float32)\n",
        "    A = torch.tensor(A_np, dtype=torch.float32)\n",
        "    b = torch.tensor(b_np, dtype=torch.float32)\n",
        "\n",
        "    y = complex_function_torch(x, A, b)\n",
        "    # compute gradient is as simple as calling .backward() on the output of your function!\n",
        "    y.backward()\n",
        "\n",
        "    return x.grad.numpy()\n",
        "\n",
        "# Let's compare gradients!\n",
        "analytical_grad = compute_analytical_gradient(x, A, b)\n",
        "\n",
        "print(\"Analytical gradient (PyTorch):\")\n",
        "print(analytical_grad)\n",
        "print(\"\\nNumerical gradient (Finite Difference):\")\n",
        "print(numerical_grad)\n",
        "print(\"\\nDifference (L2 norm):\")\n",
        "print(np.linalg.norm(analytical_grad - numerical_grad))"
      ]
    },
    {
      "cell_type": "code",
      "source": [],
      "metadata": {
        "id": "e5L9mgWmWegd"
      },
      "execution_count": null,
      "outputs": []
    }
  ],
  "metadata": {
    "colab": {
      "provenance": []
    },
    "kernelspec": {
      "display_name": "my_env",
      "language": "python",
      "name": "python3"
    },
    "language_info": {
      "codemirror_mode": {
        "name": "ipython",
        "version": 3
      },
      "file_extension": ".py",
      "mimetype": "text/x-python",
      "name": "python",
      "nbconvert_exporter": "python",
      "pygments_lexer": "ipython3",
      "version": "3.9.17"
    }
  },
  "nbformat": 4,
  "nbformat_minor": 0
}